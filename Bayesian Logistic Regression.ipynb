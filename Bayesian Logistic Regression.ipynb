{
 "cells": [
  {
   "cell_type": "code",
   "execution_count": 1,
   "id": "96ba19f4",
   "metadata": {},
   "outputs": [
    {
     "name": "stdout",
     "output_type": "stream",
     "text": [
      "Collecting pymc3\n",
      "  Downloading pymc3-3.11.5-py3-none-any.whl (872 kB)\n",
      "Requirement already satisfied: scipy<1.8.0,>=1.7.3 in c:\\users\\lenovo\\anaconda3\\lib\\site-packages (from pymc3) (1.7.3)\n",
      "Requirement already satisfied: patsy>=0.5.1 in c:\\users\\lenovo\\anaconda3\\lib\\site-packages (from pymc3) (0.5.2)\n",
      "Requirement already satisfied: typing-extensions>=3.7.4 in c:\\users\\lenovo\\anaconda3\\lib\\site-packages (from pymc3) (4.5.0)\n",
      "Requirement already satisfied: pandas>=0.24.0 in c:\\users\\lenovo\\anaconda3\\lib\\site-packages (from pymc3) (1.4.2)\n",
      "Collecting semver>=2.13.0\n",
      "  Downloading semver-3.0.2-py3-none-any.whl (17 kB)\n",
      "Collecting theano-pymc==1.1.2\n",
      "  Downloading Theano-PyMC-1.1.2.tar.gz (1.8 MB)\n",
      "Requirement already satisfied: numpy<1.22.2,>=1.15.0 in c:\\users\\lenovo\\anaconda3\\lib\\site-packages (from pymc3) (1.21.5)\n",
      "Collecting fastprogress>=0.2.0\n",
      "  Downloading fastprogress-1.0.3-py3-none-any.whl (12 kB)\n",
      "Collecting dill\n",
      "  Downloading dill-0.3.8-py3-none-any.whl (116 kB)\n",
      "Collecting arviz>=0.11.0\n",
      "  Downloading arviz-0.17.0-py3-none-any.whl (1.7 MB)\n",
      "Requirement already satisfied: cachetools>=4.2.1 in c:\\users\\lenovo\\anaconda3\\lib\\site-packages (from pymc3) (4.2.2)\n",
      "Collecting deprecat\n",
      "  Downloading deprecat-2.1.1-py2.py3-none-any.whl (9.8 kB)\n",
      "Requirement already satisfied: filelock in c:\\users\\lenovo\\anaconda3\\lib\\site-packages (from theano-pymc==1.1.2->pymc3) (3.6.0)\n",
      "Collecting h5netcdf>=1.0.2\n",
      "  Downloading h5netcdf-1.3.0-py3-none-any.whl (43 kB)\n",
      "Requirement already satisfied: setuptools>=60.0.0 in c:\\users\\lenovo\\anaconda3\\lib\\site-packages (from arviz>=0.11.0->pymc3) (61.2.0)\n",
      "Requirement already satisfied: matplotlib>=3.5 in c:\\users\\lenovo\\anaconda3\\lib\\site-packages (from arviz>=0.11.0->pymc3) (3.5.1)\n",
      "Collecting xarray-einstats>=0.3\n",
      "  Downloading xarray_einstats-0.7.0-py3-none-any.whl (31 kB)\n",
      "Collecting numpy<1.22.2,>=1.15.0\n",
      "  Downloading numpy-1.22.1-cp39-cp39-win_amd64.whl (14.7 MB)\n",
      "Collecting xarray>=0.21.0\n",
      "  Downloading xarray-2024.2.0-py3-none-any.whl (1.1 MB)\n",
      "Requirement already satisfied: packaging in c:\\users\\lenovo\\anaconda3\\lib\\site-packages (from arviz>=0.11.0->pymc3) (21.3)\n",
      "Collecting arviz>=0.11.0\n",
      "  Downloading arviz-0.16.1-py3-none-any.whl (1.7 MB)\n",
      "  Downloading arviz-0.16.0-py3-none-any.whl (1.7 MB)\n",
      "  Downloading arviz-0.15.1-py3-none-any.whl (1.6 MB)\n",
      "  Downloading arviz-0.15.0-py3-none-any.whl (1.6 MB)\n",
      "  Downloading arviz-0.14.0-py3-none-any.whl (1.7 MB)\n",
      "Collecting netcdf4\n",
      "  Downloading netCDF4-1.6.5-cp39-cp39-win_amd64.whl (6.6 MB)\n",
      "Collecting arviz>=0.11.0\n",
      "  Downloading arviz-0.13.0-py3-none-any.whl (1.7 MB)\n",
      "  Downloading arviz-0.12.1-py3-none-any.whl (1.6 MB)\n",
      "Requirement already satisfied: xarray>=0.16.1 in c:\\users\\lenovo\\anaconda3\\lib\\site-packages (from arviz>=0.11.0->pymc3) (0.20.1)\n",
      "Requirement already satisfied: pyparsing>=2.2.1 in c:\\users\\lenovo\\anaconda3\\lib\\site-packages (from matplotlib>=3.5->arviz>=0.11.0->pymc3) (3.0.4)\n",
      "Requirement already satisfied: python-dateutil>=2.7 in c:\\users\\lenovo\\anaconda3\\lib\\site-packages (from matplotlib>=3.5->arviz>=0.11.0->pymc3) (2.8.2)\n",
      "Requirement already satisfied: fonttools>=4.22.0 in c:\\users\\lenovo\\anaconda3\\lib\\site-packages (from matplotlib>=3.5->arviz>=0.11.0->pymc3) (4.25.0)\n",
      "Requirement already satisfied: cycler>=0.10 in c:\\users\\lenovo\\anaconda3\\lib\\site-packages (from matplotlib>=3.5->arviz>=0.11.0->pymc3) (0.11.0)\n",
      "Requirement already satisfied: pillow>=6.2.0 in c:\\users\\lenovo\\anaconda3\\lib\\site-packages (from matplotlib>=3.5->arviz>=0.11.0->pymc3) (9.0.1)\n",
      "Requirement already satisfied: kiwisolver>=1.0.1 in c:\\users\\lenovo\\anaconda3\\lib\\site-packages (from matplotlib>=3.5->arviz>=0.11.0->pymc3) (1.3.2)\n",
      "Requirement already satisfied: pytz>=2020.1 in c:\\users\\lenovo\\anaconda3\\lib\\site-packages (from pandas>=0.24.0->pymc3) (2021.3)\n",
      "Requirement already satisfied: six in c:\\users\\lenovo\\anaconda3\\lib\\site-packages (from patsy>=0.5.1->pymc3) (1.16.0)\n",
      "Collecting xarray-einstats>=0.2\n",
      "  Downloading xarray_einstats-0.6.0-py3-none-any.whl (31 kB)\n",
      "Collecting xarray>=0.16.1\n",
      "  Downloading xarray-2024.1.1-py3-none-any.whl (1.1 MB)\n",
      "  Downloading xarray-2024.1.0-py3-none-any.whl (1.1 MB)\n",
      "  Downloading xarray-2023.12.0-py3-none-any.whl (1.1 MB)\n",
      "Requirement already satisfied: wrapt<2,>=1.10 in c:\\users\\lenovo\\anaconda3\\lib\\site-packages (from deprecat->pymc3) (1.12.1)\n",
      "Collecting cftime\n",
      "  Downloading cftime-1.6.3-cp39-cp39-win_amd64.whl (187 kB)\n",
      "Requirement already satisfied: certifi in c:\\users\\lenovo\\anaconda3\\lib\\site-packages (from netcdf4->arviz>=0.11.0->pymc3) (2021.10.8)\n",
      "Building wheels for collected packages: theano-pymc\n",
      "  Building wheel for theano-pymc (setup.py): started\n",
      "  Building wheel for theano-pymc (setup.py): finished with status 'done'\n",
      "  Created wheel for theano-pymc: filename=Theano_PyMC-1.1.2-py3-none-any.whl size=1529976 sha256=2066f397ba3c61bad02d07671b1888f31a1dab4dfb06c21e20510c587457ba6a\n",
      "  Stored in directory: c:\\users\\lenovo\\appdata\\local\\pip\\cache\\wheels\\04\\22\\4d\\832878ba2fe9ea3543f0189b9288a78e4aa4e0afc851a6890c\n",
      "Successfully built theano-pymc\n",
      "Installing collected packages: numpy, xarray, cftime, xarray-einstats, netcdf4, theano-pymc, semver, fastprogress, dill, deprecat, arviz, pymc3\n",
      "  Attempting uninstall: numpy\n",
      "    Found existing installation: numpy 1.21.5\n",
      "    Uninstalling numpy-1.21.5:\n",
      "      Successfully uninstalled numpy-1.21.5\n",
      "  Attempting uninstall: xarray\n",
      "    Found existing installation: xarray 0.20.1\n",
      "    Uninstalling xarray-0.20.1:\n",
      "      Successfully uninstalled xarray-0.20.1\n",
      "Successfully installed arviz-0.12.1 cftime-1.6.3 deprecat-2.1.1 dill-0.3.8 fastprogress-1.0.3 netcdf4-1.6.5 numpy-1.22.1 pymc3-3.11.5 semver-3.0.2 theano-pymc-1.1.2 xarray-2023.12.0 xarray-einstats-0.6.0\n",
      "Note: you may need to restart the kernel to use updated packages.\n"
     ]
    },
    {
     "name": "stderr",
     "output_type": "stream",
     "text": [
      "ERROR: pip's dependency resolver does not currently take into account all the packages that are installed. This behaviour is the source of the following dependency conflicts.\n",
      "daal4py 2021.5.0 requires daal==2021.4.0, which is not installed.\n",
      "numba 0.55.1 requires numpy<1.22,>=1.18, but you have numpy 1.22.1 which is incompatible.\n"
     ]
    }
   ],
   "source": [
    "pip install pymc3"
   ]
  },
  {
   "cell_type": "code",
   "execution_count": 1,
   "id": "718af7cc",
   "metadata": {},
   "outputs": [
    {
     "name": "stdout",
     "output_type": "stream",
     "text": [
      "WARN: Could not locate executable g77\n",
      "WARN: Could not locate executable f77\n",
      "WARN: Could not locate executable ifort\n",
      "WARN: Could not locate executable ifl\n",
      "WARN: Could not locate executable f90\n",
      "WARN: Could not locate executable DF\n",
      "WARN: Could not locate executable efl\n",
      "WARN: Could not locate executable gfortran\n",
      "WARN: Could not locate executable f95\n",
      "WARN: Could not locate executable g95\n",
      "WARN: Could not locate executable efort\n",
      "WARN: Could not locate executable efc\n",
      "WARN: Could not locate executable flang\n",
      "WARN: don't know how to compile Fortran code on platform 'nt'\n"
     ]
    },
    {
     "name": "stderr",
     "output_type": "stream",
     "text": [
      "WARNING (theano.configdefaults): g++ not available, if using conda: `conda install m2w64-toolchain`\n",
      "WARNING (theano.configdefaults): g++ not detected ! Theano will be unable to execute optimized C-implementations (for both CPU and GPU) and will default to Python implementations. Performance will be severely degraded. To remove this warning, set Theano flags cxx to an empty string.\n",
      "WARNING (theano.tensor.blas): Using NumPy C-API based implementation for BLAS functions.\n",
      "C:\\Users\\Lenovo\\anaconda3\\lib\\site-packages\\deprecat\\classic.py:215: FutureWarning: In v4.0, pm.sample will return an `arviz.InferenceData` object instead of a `MultiTrace` by default. You can pass return_inferencedata=True or return_inferencedata=False to be safe and silence this warning.\n",
      "  return wrapped_(*args_, **kwargs_)\n",
      "Auto-assigning NUTS sampler...\n",
      "Initializing NUTS using jitter+adapt_diag...\n",
      "C:\\Users\\Lenovo\\anaconda3\\lib\\site-packages\\theano\\tensor\\elemwise.py:826: RuntimeWarning: divide by zero encountered in log\n",
      "  variables = ufunc(*ufunc_args, **ufunc_kwargs)\n",
      "C:\\Users\\Lenovo\\anaconda3\\lib\\site-packages\\theano\\tensor\\elemwise.py:826: RuntimeWarning: invalid value encountered in multiply\n",
      "  variables = ufunc(*ufunc_args, **ufunc_kwargs)\n",
      "Multiprocess sampling (4 chains in 4 jobs)\n",
      "NUTS: [intercept, beta]\n"
     ]
    },
    {
     "data": {
      "text/html": [
       "\n",
       "<style>\n",
       "    /* Turns off some styling */\n",
       "    progress {\n",
       "        /* gets rid of default border in Firefox and Opera. */\n",
       "        border: none;\n",
       "        /* Needs to be in here for Safari polyfill so background images work as expected. */\n",
       "        background-size: auto;\n",
       "    }\n",
       "    progress:not([value]), progress:not([value])::-webkit-progress-bar {\n",
       "        background: repeating-linear-gradient(45deg, #7e7e7e, #7e7e7e 10px, #5c5c5c 10px, #5c5c5c 20px);\n",
       "    }\n",
       "    .progress-bar-interrupted, .progress-bar-interrupted::-webkit-progress-bar {\n",
       "        background: #F44336;\n",
       "    }\n",
       "</style>\n"
      ],
      "text/plain": [
       "<IPython.core.display.HTML object>"
      ]
     },
     "metadata": {},
     "output_type": "display_data"
    },
    {
     "data": {
      "text/html": [
       "\n",
       "    <div>\n",
       "      <progress value='8000' class='' max='8000' style='width:300px; height:20px; vertical-align: middle;'></progress>\n",
       "      100.00% [8000/8000 01:15&lt;00:00 Sampling 4 chains, 0 divergences]\n",
       "    </div>\n",
       "    "
      ],
      "text/plain": [
       "<IPython.core.display.HTML object>"
      ]
     },
     "metadata": {},
     "output_type": "display_data"
    },
    {
     "name": "stderr",
     "output_type": "stream",
     "text": [
      "Sampling 4 chains for 1_000 tune and 1_000 draw iterations (4_000 + 4_000 draws total) took 96 seconds.\n",
      "Got error No model on context stack. trying to find log_likelihood in translation.\n",
      "C:\\Users\\Lenovo\\anaconda3\\lib\\site-packages\\arviz\\data\\io_pymc3_3x.py:98: FutureWarning: Using `from_pymc3` without the model will be deprecated in a future release. Not using the model will return less accurate and less useful results. Make sure you use the model argument or call from_pymc3 within a model context.\n",
      "  warnings.warn(\n"
     ]
    },
    {
     "data": {
      "text/plain": [
       "array([<AxesSubplot:title={'center':'beta\\n0'}>,\n",
       "       <AxesSubplot:title={'center':'beta\\n1'}>,\n",
       "       <AxesSubplot:title={'center':'intercept'}>], dtype=object)"
      ]
     },
     "execution_count": 1,
     "metadata": {},
     "output_type": "execute_result"
    },
    {
     "data": {
      "image/png": "[encoded data removed]",
      "text/plain": [
       "<Figure size 720x432 with 3 Axes>"
      ]
     },
     "metadata": {
      "needs_background": "light"
     },
     "output_type": "display_data"
    }
   ],
   "source": [
    "import numpy as np\n",
    "import pymc3 as pm\n",
    "\n",
    "# Generate synthetic dataset\n",
    "np.random.seed(42)\n",
    "X = np.random.normal(0, 1, (100, 2))\n",
    "true_beta = np.array([1, -2])\n",
    "true_intercept = 0\n",
    "logit_probs = true_intercept + np.dot(X, true_beta)\n",
    "y = np.random.binomial(1, p=1 / (1 + np.exp(-logit_probs)))\n",
    "\n",
    "# Define the Bayesian logistic regression model using PyMC3\n",
    "with pm.Model() as logistic_model:\n",
    "    # Priors\n",
    "    beta = pm.Normal('beta', mu=0, sigma=1, shape=X.shape[1])\n",
    "    intercept = pm.Normal('intercept', mu=0, sigma=1)\n",
    "\n",
    "    # Likelihood\n",
    "    p = pm.math.sigmoid(intercept + pm.math.dot(X, beta))\n",
    "    y_obs = pm.Bernoulli('y_obs', p=p, observed=y)\n",
    "\n",
    "    # Sample from the posterior distribution\n",
    "    trace = pm.sample(1000, tune=1000)\n",
    "\n",
    "# Plot posterior distributions of coefficients\n",
    "pm.plot_posterior(trace, var_names=['beta', 'intercept'], figsize=(10, 6))\n"
   ]
  }
 ],
 "metadata": {
  "kernelspec": {
   "display_name": "Python 3 (ipykernel)",
   "language": "python",
   "name": "python3"
  },
  "language_info": {
   "codemirror_mode": {
    "name": "ipython",
    "version": 3
   },
   "file_extension": ".py",
   "mimetype": "text/x-python",
   "name": "python",
   "nbconvert_exporter": "python",
   "pygments_lexer": "ipython3",
   "version": "3.9.12"
  }
 },
 "nbformat": 4,
 "nbformat_minor": 5
}
